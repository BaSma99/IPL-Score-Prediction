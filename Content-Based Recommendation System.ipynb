{
 "cells": [
  {
   "cell_type": "markdown",
   "id": "ee986b90",
   "metadata": {},
   "source": [
    "## **Import Important Libraries**"
   ]
  },
  {
   "cell_type": "code",
   "execution_count": 34,
   "id": "0e3919c0",
   "metadata": {},
   "outputs": [],
   "source": [
    "import numpy as np #for linear algebra\n",
    "import pandas as pd #for dataframes\n",
    "import sklearn #for data preprocessing\n",
    "#for viaualization\n",
    "import matplotlib.pyplot as plt\n",
    "import seaborn as sns\n",
    "from scipy.sparse import csr_matrix #for matrix\n",
    "from sklearn.neighbors import NearestNeighbors #to use knn model"
   ]
  },
  {
   "cell_type": "code",
   "execution_count": 2,
   "id": "8defe1e8",
   "metadata": {},
   "outputs": [],
   "source": [
    "import warnings\n",
    "warnings.simplefilter(action='ignore', category=FutureWarning)"
   ]
  },
  {
   "cell_type": "markdown",
   "id": "862ef38c",
   "metadata": {},
   "source": [
    "## **Read the Dataset**"
   ]
  },
  {
   "cell_type": "code",
   "execution_count": 3,
   "id": "20a86ce5",
   "metadata": {},
   "outputs": [
    {
     "data": {
      "text/html": [
       "<div>\n",
       "<style scoped>\n",
       "    .dataframe tbody tr th:only-of-type {\n",
       "        vertical-align: middle;\n",
       "    }\n",
       "\n",
       "    .dataframe tbody tr th {\n",
       "        vertical-align: top;\n",
       "    }\n",
       "\n",
       "    .dataframe thead th {\n",
       "        text-align: right;\n",
       "    }\n",
       "</style>\n",
       "<table border=\"1\" class=\"dataframe\">\n",
       "  <thead>\n",
       "    <tr style=\"text-align: right;\">\n",
       "      <th></th>\n",
       "      <th>userId</th>\n",
       "      <th>movieId</th>\n",
       "      <th>rating</th>\n",
       "      <th>timestamp</th>\n",
       "    </tr>\n",
       "  </thead>\n",
       "  <tbody>\n",
       "    <tr>\n",
       "      <th>0</th>\n",
       "      <td>1</td>\n",
       "      <td>1</td>\n",
       "      <td>4.0</td>\n",
       "      <td>964982703</td>\n",
       "    </tr>\n",
       "    <tr>\n",
       "      <th>1</th>\n",
       "      <td>1</td>\n",
       "      <td>3</td>\n",
       "      <td>4.0</td>\n",
       "      <td>964981247</td>\n",
       "    </tr>\n",
       "    <tr>\n",
       "      <th>2</th>\n",
       "      <td>1</td>\n",
       "      <td>6</td>\n",
       "      <td>4.0</td>\n",
       "      <td>964982224</td>\n",
       "    </tr>\n",
       "    <tr>\n",
       "      <th>3</th>\n",
       "      <td>1</td>\n",
       "      <td>47</td>\n",
       "      <td>5.0</td>\n",
       "      <td>964983815</td>\n",
       "    </tr>\n",
       "    <tr>\n",
       "      <th>4</th>\n",
       "      <td>1</td>\n",
       "      <td>50</td>\n",
       "      <td>5.0</td>\n",
       "      <td>964982931</td>\n",
       "    </tr>\n",
       "  </tbody>\n",
       "</table>\n",
       "</div>"
      ],
      "text/plain": [
       "   userId  movieId  rating  timestamp\n",
       "0       1        1     4.0  964982703\n",
       "1       1        3     4.0  964981247\n",
       "2       1        6     4.0  964982224\n",
       "3       1       47     5.0  964983815\n",
       "4       1       50     5.0  964982931"
      ]
     },
     "execution_count": 3,
     "metadata": {},
     "output_type": "execute_result"
    }
   ],
   "source": [
    "#read rating dataset\n",
    "ratings_df = pd.read_csv(\"ratings.csv\")\n",
    "ratings_df.head()"
   ]
  },
  {
   "cell_type": "code",
   "execution_count": 5,
   "id": "2f64bdae",
   "metadata": {},
   "outputs": [
    {
     "data": {
      "text/html": [
       "<div>\n",
       "<style scoped>\n",
       "    .dataframe tbody tr th:only-of-type {\n",
       "        vertical-align: middle;\n",
       "    }\n",
       "\n",
       "    .dataframe tbody tr th {\n",
       "        vertical-align: top;\n",
       "    }\n",
       "\n",
       "    .dataframe thead th {\n",
       "        text-align: right;\n",
       "    }\n",
       "</style>\n",
       "<table border=\"1\" class=\"dataframe\">\n",
       "  <thead>\n",
       "    <tr style=\"text-align: right;\">\n",
       "      <th></th>\n",
       "      <th>movieId</th>\n",
       "      <th>title</th>\n",
       "      <th>genres</th>\n",
       "    </tr>\n",
       "  </thead>\n",
       "  <tbody>\n",
       "    <tr>\n",
       "      <th>0</th>\n",
       "      <td>1</td>\n",
       "      <td>Toy Story (1995)</td>\n",
       "      <td>Adventure|Animation|Children|Comedy|Fantasy</td>\n",
       "    </tr>\n",
       "    <tr>\n",
       "      <th>1</th>\n",
       "      <td>2</td>\n",
       "      <td>Jumanji (1995)</td>\n",
       "      <td>Adventure|Children|Fantasy</td>\n",
       "    </tr>\n",
       "    <tr>\n",
       "      <th>2</th>\n",
       "      <td>3</td>\n",
       "      <td>Grumpier Old Men (1995)</td>\n",
       "      <td>Comedy|Romance</td>\n",
       "    </tr>\n",
       "    <tr>\n",
       "      <th>3</th>\n",
       "      <td>4</td>\n",
       "      <td>Waiting to Exhale (1995)</td>\n",
       "      <td>Comedy|Drama|Romance</td>\n",
       "    </tr>\n",
       "    <tr>\n",
       "      <th>4</th>\n",
       "      <td>5</td>\n",
       "      <td>Father of the Bride Part II (1995)</td>\n",
       "      <td>Comedy</td>\n",
       "    </tr>\n",
       "  </tbody>\n",
       "</table>\n",
       "</div>"
      ],
      "text/plain": [
       "   movieId                               title  \\\n",
       "0        1                    Toy Story (1995)   \n",
       "1        2                      Jumanji (1995)   \n",
       "2        3             Grumpier Old Men (1995)   \n",
       "3        4            Waiting to Exhale (1995)   \n",
       "4        5  Father of the Bride Part II (1995)   \n",
       "\n",
       "                                        genres  \n",
       "0  Adventure|Animation|Children|Comedy|Fantasy  \n",
       "1                   Adventure|Children|Fantasy  \n",
       "2                               Comedy|Romance  \n",
       "3                         Comedy|Drama|Romance  \n",
       "4                                       Comedy  "
      ]
     },
     "execution_count": 5,
     "metadata": {},
     "output_type": "execute_result"
    }
   ],
   "source": [
    "#read movie dataset\n",
    "movies_df = pd.read_csv(\"movies.csv\")\n",
    "movies_df.head()"
   ]
  },
  {
   "cell_type": "markdown",
   "id": "1f7a96ff",
   "metadata": {},
   "source": [
    "## **Perform Statstical Analysis**"
   ]
  },
  {
   "cell_type": "code",
   "execution_count": 6,
   "id": "42f8ca9b",
   "metadata": {},
   "outputs": [
    {
     "name": "stdout",
     "output_type": "stream",
     "text": [
      "Number of ratings: 100836\n"
     ]
    }
   ],
   "source": [
    "number_ratings = len(ratings_df)\n",
    "print(f\"Number of ratings: {number_ratings}\")"
   ]
  },
  {
   "cell_type": "code",
   "execution_count": 7,
   "id": "7f24b532",
   "metadata": {},
   "outputs": [
    {
     "name": "stdout",
     "output_type": "stream",
     "text": [
      "Number of unique movie Id's: 9724\n"
     ]
    }
   ],
   "source": [
    "number_movies = len(ratings_df['movieId'].unique())\n",
    "print(f\"Number of unique movie Id's: {number_movies}\")"
   ]
  },
  {
   "cell_type": "code",
   "execution_count": 8,
   "id": "c8275dde",
   "metadata": {},
   "outputs": [
    {
     "name": "stdout",
     "output_type": "stream",
     "text": [
      "Number of unique users: 610\n"
     ]
    }
   ],
   "source": [
    "number_users = len(ratings_df['userId'].unique())\n",
    "print(f\"Number of unique users: {number_users}\")"
   ]
  },
  {
   "cell_type": "code",
   "execution_count": 9,
   "id": "88c3894e",
   "metadata": {},
   "outputs": [
    {
     "name": "stdout",
     "output_type": "stream",
     "text": [
      "Average ratings per user: 165.3\n"
     ]
    }
   ],
   "source": [
    "print(f\"Average ratings per user: {round(number_ratings/number_users, 2)}\")"
   ]
  },
  {
   "cell_type": "code",
   "execution_count": 10,
   "id": "faf707f2",
   "metadata": {},
   "outputs": [
    {
     "name": "stdout",
     "output_type": "stream",
     "text": [
      "Average ratings per movie: 10.37\n"
     ]
    }
   ],
   "source": [
    "print(f\"Average ratings per movie: {round(number_ratings/number_movies, 2)}\")"
   ]
  },
  {
   "cell_type": "code",
   "execution_count": 14,
   "id": "a41561a6",
   "metadata": {},
   "outputs": [
    {
     "data": {
      "text/html": [
       "<div>\n",
       "<style scoped>\n",
       "    .dataframe tbody tr th:only-of-type {\n",
       "        vertical-align: middle;\n",
       "    }\n",
       "\n",
       "    .dataframe tbody tr th {\n",
       "        vertical-align: top;\n",
       "    }\n",
       "\n",
       "    .dataframe thead th {\n",
       "        text-align: right;\n",
       "    }\n",
       "</style>\n",
       "<table border=\"1\" class=\"dataframe\">\n",
       "  <thead>\n",
       "    <tr style=\"text-align: right;\">\n",
       "      <th></th>\n",
       "      <th>User Id</th>\n",
       "      <th>Number of Ratings</th>\n",
       "    </tr>\n",
       "  </thead>\n",
       "  <tbody>\n",
       "    <tr>\n",
       "      <th>0</th>\n",
       "      <td>1</td>\n",
       "      <td>232</td>\n",
       "    </tr>\n",
       "    <tr>\n",
       "      <th>1</th>\n",
       "      <td>2</td>\n",
       "      <td>29</td>\n",
       "    </tr>\n",
       "    <tr>\n",
       "      <th>2</th>\n",
       "      <td>3</td>\n",
       "      <td>39</td>\n",
       "    </tr>\n",
       "    <tr>\n",
       "      <th>3</th>\n",
       "      <td>4</td>\n",
       "      <td>216</td>\n",
       "    </tr>\n",
       "    <tr>\n",
       "      <th>4</th>\n",
       "      <td>5</td>\n",
       "      <td>44</td>\n",
       "    </tr>\n",
       "  </tbody>\n",
       "</table>\n",
       "</div>"
      ],
      "text/plain": [
       "   User Id  Number of Ratings\n",
       "0        1                232\n",
       "1        2                 29\n",
       "2        3                 39\n",
       "3        4                216\n",
       "4        5                 44"
      ]
     },
     "execution_count": 14,
     "metadata": {},
     "output_type": "execute_result"
    }
   ],
   "source": [
    "user_frequency = ratings_df[['userId', 'movieId']].groupby('userId').count().reset_index()\n",
    "user_frequency.columns = ['User Id', 'Number of Ratings']\n",
    "user_frequency.head()"
   ]
  },
  {
   "cell_type": "code",
   "execution_count": 18,
   "id": "bf6fb66e",
   "metadata": {},
   "outputs": [],
   "source": [
    "#Find Lowest and Highest rated movies:\n",
    "mean_rating = ratings_df.groupby('movieId')[['rating']].mean()"
   ]
  },
  {
   "cell_type": "code",
   "execution_count": 19,
   "id": "bf6442d6",
   "metadata": {},
   "outputs": [
    {
     "data": {
      "text/html": [
       "<div>\n",
       "<style scoped>\n",
       "    .dataframe tbody tr th:only-of-type {\n",
       "        vertical-align: middle;\n",
       "    }\n",
       "\n",
       "    .dataframe tbody tr th {\n",
       "        vertical-align: top;\n",
       "    }\n",
       "\n",
       "    .dataframe thead th {\n",
       "        text-align: right;\n",
       "    }\n",
       "</style>\n",
       "<table border=\"1\" class=\"dataframe\">\n",
       "  <thead>\n",
       "    <tr style=\"text-align: right;\">\n",
       "      <th></th>\n",
       "      <th>movieId</th>\n",
       "      <th>title</th>\n",
       "      <th>genres</th>\n",
       "    </tr>\n",
       "  </thead>\n",
       "  <tbody>\n",
       "    <tr>\n",
       "      <th>2689</th>\n",
       "      <td>3604</td>\n",
       "      <td>Gypsy (1962)</td>\n",
       "      <td>Musical</td>\n",
       "    </tr>\n",
       "  </tbody>\n",
       "</table>\n",
       "</div>"
      ],
      "text/plain": [
       "      movieId         title   genres\n",
       "2689     3604  Gypsy (1962)  Musical"
      ]
     },
     "execution_count": 19,
     "metadata": {},
     "output_type": "execute_result"
    }
   ],
   "source": [
    "#Lowest rated movies\n",
    "lowest_rated = mean_rating['rating'].idxmin()\n",
    "movies.loc[movies['movieId'] == lowest_rated]"
   ]
  },
  {
   "cell_type": "code",
   "execution_count": 20,
   "id": "21f8af2f",
   "metadata": {},
   "outputs": [
    {
     "data": {
      "text/html": [
       "<div>\n",
       "<style scoped>\n",
       "    .dataframe tbody tr th:only-of-type {\n",
       "        vertical-align: middle;\n",
       "    }\n",
       "\n",
       "    .dataframe tbody tr th {\n",
       "        vertical-align: top;\n",
       "    }\n",
       "\n",
       "    .dataframe thead th {\n",
       "        text-align: right;\n",
       "    }\n",
       "</style>\n",
       "<table border=\"1\" class=\"dataframe\">\n",
       "  <thead>\n",
       "    <tr style=\"text-align: right;\">\n",
       "      <th></th>\n",
       "      <th>movieId</th>\n",
       "      <th>title</th>\n",
       "      <th>genres</th>\n",
       "    </tr>\n",
       "  </thead>\n",
       "  <tbody>\n",
       "    <tr>\n",
       "      <th>48</th>\n",
       "      <td>53</td>\n",
       "      <td>Lamerica (1994)</td>\n",
       "      <td>Adventure|Drama</td>\n",
       "    </tr>\n",
       "  </tbody>\n",
       "</table>\n",
       "</div>"
      ],
      "text/plain": [
       "    movieId            title           genres\n",
       "48       53  Lamerica (1994)  Adventure|Drama"
      ]
     },
     "execution_count": 20,
     "metadata": {},
     "output_type": "execute_result"
    }
   ],
   "source": [
    "# Highest rated movies\n",
    "highest_rated = mean_rating['rating'].idxmax()\n",
    "movies.loc[movies['movieId'] == highest_rated]"
   ]
  },
  {
   "cell_type": "code",
   "execution_count": 23,
   "id": "91021937",
   "metadata": {},
   "outputs": [
    {
     "data": {
      "text/html": [
       "<div>\n",
       "<style scoped>\n",
       "    .dataframe tbody tr th:only-of-type {\n",
       "        vertical-align: middle;\n",
       "    }\n",
       "\n",
       "    .dataframe tbody tr th {\n",
       "        vertical-align: top;\n",
       "    }\n",
       "\n",
       "    .dataframe thead th {\n",
       "        text-align: right;\n",
       "    }\n",
       "</style>\n",
       "<table border=\"1\" class=\"dataframe\">\n",
       "  <thead>\n",
       "    <tr style=\"text-align: right;\">\n",
       "      <th></th>\n",
       "      <th>userId</th>\n",
       "      <th>movieId</th>\n",
       "      <th>rating</th>\n",
       "      <th>timestamp</th>\n",
       "    </tr>\n",
       "  </thead>\n",
       "  <tbody>\n",
       "    <tr>\n",
       "      <th>13368</th>\n",
       "      <td>85</td>\n",
       "      <td>53</td>\n",
       "      <td>5.0</td>\n",
       "      <td>889468268</td>\n",
       "    </tr>\n",
       "    <tr>\n",
       "      <th>96115</th>\n",
       "      <td>603</td>\n",
       "      <td>53</td>\n",
       "      <td>5.0</td>\n",
       "      <td>963180003</td>\n",
       "    </tr>\n",
       "  </tbody>\n",
       "</table>\n",
       "</div>"
      ],
      "text/plain": [
       "       userId  movieId  rating  timestamp\n",
       "13368      85       53     5.0  889468268\n",
       "96115     603       53     5.0  963180003"
      ]
     },
     "execution_count": 23,
     "metadata": {},
     "output_type": "execute_result"
    }
   ],
   "source": [
    "#show number of people who rated movies rated movie highest\n",
    "ratings_df[ratings_df['movieId']==highest_rated]"
   ]
  },
  {
   "cell_type": "code",
   "execution_count": 24,
   "id": "372095b7",
   "metadata": {},
   "outputs": [
    {
     "data": {
      "text/html": [
       "<div>\n",
       "<style scoped>\n",
       "    .dataframe tbody tr th:only-of-type {\n",
       "        vertical-align: middle;\n",
       "    }\n",
       "\n",
       "    .dataframe tbody tr th {\n",
       "        vertical-align: top;\n",
       "    }\n",
       "\n",
       "    .dataframe thead th {\n",
       "        text-align: right;\n",
       "    }\n",
       "</style>\n",
       "<table border=\"1\" class=\"dataframe\">\n",
       "  <thead>\n",
       "    <tr style=\"text-align: right;\">\n",
       "      <th></th>\n",
       "      <th>userId</th>\n",
       "      <th>movieId</th>\n",
       "      <th>rating</th>\n",
       "      <th>timestamp</th>\n",
       "    </tr>\n",
       "  </thead>\n",
       "  <tbody>\n",
       "    <tr>\n",
       "      <th>13633</th>\n",
       "      <td>89</td>\n",
       "      <td>3604</td>\n",
       "      <td>0.5</td>\n",
       "      <td>1520408880</td>\n",
       "    </tr>\n",
       "  </tbody>\n",
       "</table>\n",
       "</div>"
      ],
      "text/plain": [
       "       userId  movieId  rating   timestamp\n",
       "13633      89     3604     0.5  1520408880"
      ]
     },
     "execution_count": 24,
     "metadata": {},
     "output_type": "execute_result"
    }
   ],
   "source": [
    "#show number of people who rated movies rated movie lowest\n",
    "ratings_df[ratings_df['movieId']==lowest_rated]"
   ]
  },
  {
   "cell_type": "code",
   "execution_count": 25,
   "id": "6a3a44f9",
   "metadata": {},
   "outputs": [],
   "source": [
    "#use the bayesian average\n",
    "movie_stats = ratings_df.groupby('movieId')[['rating']].agg(['count', 'mean'])\n",
    "movie_stats.columns = movie_stats.columns.droplevel()"
   ]
  },
  {
   "cell_type": "markdown",
   "id": "4220c57c",
   "metadata": {},
   "source": [
    "## **Find similar movies using KNN**"
   ]
  },
  {
   "cell_type": "code",
   "execution_count": 42,
   "id": "60837f73",
   "metadata": {},
   "outputs": [],
   "source": [
    "def Creation_Matrix(df):\n",
    "\n",
    "    Users = len(df['userId'].unique())\n",
    "    Movies = len(df['movieId'].unique())\n",
    "\n",
    "    #Map Ids to indices\n",
    "    Users_Map = dict(zip(np.unique(df[\"userId\"]), list(range(Users))))\n",
    "    Movies_Map = dict(zip(np.unique(df[\"movieId\"]), list(range(Movies))))\n",
    "\n",
    "    #Map indices to IDs\n",
    "    Users_index_Map = dict(zip(list(range(Users)), np.unique(df[\"userId\"])))\n",
    "    Movies_index_Map = dict(zip(list(range(Movies)), np.unique(df[\"movieId\"])))\n",
    "\n",
    "    User_index = [Users_Map[i] for i in df['userId']]\n",
    "    Movie_index = [Movies_Map[i] for i in df['movieId']]\n",
    "\n",
    "    Matrix = csr_matrix((df[\"rating\"], (Movie_index, User_index)), shape=(Movies,Users))\n",
    "\n",
    "    return Matrix, Users_Map, Movies_Map, Users_index_Map, Movies_index_Map"
   ]
  },
  {
   "cell_type": "code",
   "execution_count": 43,
   "id": "e73e552c",
   "metadata": {},
   "outputs": [],
   "source": [
    "Matrix, Users_Map, Movies_Map, Users_index_Map, Movies_index_Map = Creation_Matrix(ratings_df)"
   ]
  },
  {
   "cell_type": "code",
   "execution_count": 80,
   "id": "106ac75f",
   "metadata": {},
   "outputs": [],
   "source": [
    "#define a function to find the similar movies\n",
    "def Find_Similar_Movies(movie_id, Matrix, k, metric='cosine', show_distance=False):\n",
    "\n",
    "    Neighbours_List = []\n",
    "    #define movies index and vector\n",
    "    Movies_Index = Movies_Map[movie_id]\n",
    "    Movies_Vector = Matrix[Movies_Index]\n",
    "    \n",
    "    #define KNN model\n",
    "    k+=1\n",
    "    kNN = NearestNeighbors(n_neighbors=k, algorithm=\"brute\", metric=metric)\n",
    "    #fit KNN model\n",
    "    kNN.fit(Matrix)\n",
    "    Movies_Vector = Movies_Vector.reshape(1,-1)\n",
    "    Neighbours = kNN.kneighbors(Movies_Vector, return_distance=show_distance)\n",
    "    \n",
    "    #for loop to append similar movies into a list\n",
    "    for i in range(0,k):\n",
    "        n = Neighbours.item(i)\n",
    "        Neighbours_List.append(movie_inv_mapper[n])\n",
    "    Neighbours_List.pop(0)\n",
    "    return Neighbours_List"
   ]
  },
  {
   "cell_type": "code",
   "execution_count": 81,
   "id": "e87d46d3",
   "metadata": {},
   "outputs": [
    {
     "name": "stdout",
     "output_type": "stream",
     "text": [
      "Since you watched the Heat (1995) Movie\n",
      "Rock, The (1996)\n",
      "Twelve Monkeys (a.k.a. 12 Monkeys) (1995)\n",
      "Léon: The Professional (a.k.a. The Professional) (Léon) (1994)\n",
      "Casino (1995)\n",
      "Fargo (1996)\n",
      "Fugitive, The (1993)\n",
      "Seven (a.k.a. Se7en) (1995)\n",
      "Broken Arrow (1996)\n",
      "Desperado (1995)\n",
      "Independence Day (a.k.a. ID4) (1996)\n"
     ]
    }
   ],
   "source": [
    "Movies_Titles = dict(zip(movies['movieId'], movies['title']))\n",
    "movie_id = 6\n",
    " \n",
    "Similar_IDs = Find_Similar_Movies(movie_id, X, k=10)\n",
    "Movie_Title = Movies_Titles[movie_id]\n",
    " \n",
    "print(f\"Since you watched the {Movie_Title} Movie\")\n",
    "for i in Similar_IDs:\n",
    "    print(Movies_Titles[i])"
   ]
  },
  {
   "cell_type": "markdown",
   "id": "e5d2bdc2",
   "metadata": {},
   "source": [
    "## **Recommed Movies for Users**"
   ]
  },
  {
   "cell_type": "code",
   "execution_count": 83,
   "id": "66fea534",
   "metadata": {},
   "outputs": [],
   "source": [
    "def Recommend_Movies_For_Users(user_id, Matrix, Users_Map, Movies_Map, movie_inv_mapper, k=10):\n",
    "    Users_df = ratings_df[ratings_df['userId'] == user_id]\n",
    "\n",
    "    if Users_df.empty:\n",
    "        print(f\"The User with ID {user_id} Does Not Exist.\")\n",
    "        return\n",
    "\n",
    "    Movie_ID = Users_df[Users_df['rating'] == max(Users_df['rating'])]['movieId'].iloc[0]\n",
    "    Movie_Titles = dict(zip(movies['movieId'], movies['title']))\n",
    "\n",
    "    Similar_IDs = Find_Similar_Movies(Movie_ID, Matrix, k)\n",
    "    Movie_Title = Movie_Titles.get(Movie_ID, \"Movie not found\")\n",
    "\n",
    "    if movie_title == \"Movie not found\":\n",
    "        print(f\"Movie with ID {Movie_ID} not found.\")\n",
    "        return\n",
    "\n",
    "    print(f\"Since you watched {Movie_Title}, you might also like:\")\n",
    "    for i in Similar_IDs:\n",
    "        print(Movie_Titles.get(i, \"Movie not found\"))"
   ]
  },
  {
   "cell_type": "code",
   "execution_count": 84,
   "id": "ae1de7e3",
   "metadata": {},
   "outputs": [
    {
     "name": "stdout",
     "output_type": "stream",
     "text": [
      "Since you watched Twelve Monkeys (a.k.a. 12 Monkeys) (1995), you might also like:\n",
      "Pulp Fiction (1994)\n",
      "Terminator 2: Judgment Day (1991)\n",
      "Independence Day (a.k.a. ID4) (1996)\n",
      "Seven (a.k.a. Se7en) (1995)\n",
      "Fargo (1996)\n",
      "Fugitive, The (1993)\n",
      "Usual Suspects, The (1995)\n",
      "Jurassic Park (1993)\n",
      "Star Wars: Episode IV - A New Hope (1977)\n",
      "Heat (1995)\n"
     ]
    }
   ],
   "source": [
    "user_id = 150 \n",
    "Recommend_Movies_For_Users(user_id, Matrix, Users_Map, Movies_Map, movie_inv_mapper, k=10)"
   ]
  }
 ],
 "metadata": {
  "kernelspec": {
   "display_name": "Python 3 (ipykernel)",
   "language": "python",
   "name": "python3"
  },
  "language_info": {
   "codemirror_mode": {
    "name": "ipython",
    "version": 3
   },
   "file_extension": ".py",
   "mimetype": "text/x-python",
   "name": "python",
   "nbconvert_exporter": "python",
   "pygments_lexer": "ipython3",
   "version": "3.11.4"
  }
 },
 "nbformat": 4,
 "nbformat_minor": 5
}
